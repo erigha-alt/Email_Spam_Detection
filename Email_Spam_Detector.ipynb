{
 "cells": [
  {
   "cell_type": "code",
   "execution_count": 8,
   "id": "aea7db54-86b1-425f-ae69-5054053afe72",
   "metadata": {},
   "outputs": [],
   "source": [
    "import pandas as pd\n",
    "import numpy as np\n",
    "from sklearn.model_selection import train_test_split\n",
    "from sklearn.feature_extraction.text import CountVectorizer\n",
    "from sklearn import svm "
   ]
  },
  {
   "cell_type": "code",
   "execution_count": 15,
   "id": "03b9eb9b-c8e3-411d-a08e-845498045064",
   "metadata": {},
   "outputs": [
    {
     "name": "stdout",
     "output_type": "stream",
     "text": [
      "[['ham'\n",
      "  'Go until jurong point, crazy.. Available only in bugis n great world la e buffet... Cine there got amore wat...'\n",
      "  nan nan nan]\n",
      " ['ham' 'Ok lar... Joking wif u oni...' nan nan nan]\n",
      " ['spam'\n",
      "  \"Free entry in 2 a wkly comp to win FA Cup final tkts 21st May 2005. Text FA to 87121 to receive entry question(std txt rate)T&C's apply 08452810075over18's\"\n",
      "  nan nan nan]\n",
      " ...\n",
      " ['ham' 'Pity, * was in mood for that. So...any other suggestions?' nan\n",
      "  nan nan]\n",
      " ['ham'\n",
      "  \"The guy did some bitching but I acted like i'd be interested in buying something else next week and he gave it to us for free\"\n",
      "  nan nan nan]\n",
      " ['ham' 'Rofl. Its true to its name' nan nan nan]]\n"
     ]
    }
   ],
   "source": [
    "spam = pd.read_csv('/Users/user/Downloads/spam.csv', encoding='latin1')\n",
    "print(np.array(spam))"
   ]
  },
  {
   "cell_type": "code",
   "execution_count": 16,
   "id": "9f6a3ef3-9159-450a-b3ca-f6f829e136ae",
   "metadata": {},
   "outputs": [
    {
     "name": "stdout",
     "output_type": "stream",
     "text": [
      "<bound method NDFrame.head of         v1                                                 v2 Unnamed: 2  \\\n",
      "0      ham  Go until jurong point, crazy.. Available only ...        NaN   \n",
      "1      ham                      Ok lar... Joking wif u oni...        NaN   \n",
      "2     spam  Free entry in 2 a wkly comp to win FA Cup fina...        NaN   \n",
      "3      ham  U dun say so early hor... U c already then say...        NaN   \n",
      "4      ham  Nah I don't think he goes to usf, he lives aro...        NaN   \n",
      "...    ...                                                ...        ...   \n",
      "5567  spam  This is the 2nd time we have tried 2 contact u...        NaN   \n",
      "5568   ham              Will Ì_ b going to esplanade fr home?        NaN   \n",
      "5569   ham  Pity, * was in mood for that. So...any other s...        NaN   \n",
      "5570   ham  The guy did some bitching but I acted like i'd...        NaN   \n",
      "5571   ham                         Rofl. Its true to its name        NaN   \n",
      "\n",
      "     Unnamed: 3 Unnamed: 4  \n",
      "0           NaN        NaN  \n",
      "1           NaN        NaN  \n",
      "2           NaN        NaN  \n",
      "3           NaN        NaN  \n",
      "4           NaN        NaN  \n",
      "...         ...        ...  \n",
      "5567        NaN        NaN  \n",
      "5568        NaN        NaN  \n",
      "5569        NaN        NaN  \n",
      "5570        NaN        NaN  \n",
      "5571        NaN        NaN  \n",
      "\n",
      "[5572 rows x 5 columns]>\n"
     ]
    }
   ],
   "source": [
    "print(spam.head)"
   ]
  },
  {
   "cell_type": "code",
   "execution_count": 17,
   "id": "e8cb9bb2-1852-45eb-a48d-f09d01bbb592",
   "metadata": {},
   "outputs": [],
   "source": [
    "spam.drop([\"Unnamed: 2\", \"Unnamed: 3\", \"Unnamed: 4\"], axis=1, inplace=True)\n"
   ]
  },
  {
   "cell_type": "code",
   "execution_count": 18,
   "id": "359f2847-2a52-488c-92df-c97bfed06be3",
   "metadata": {},
   "outputs": [
    {
     "name": "stdout",
     "output_type": "stream",
     "text": [
      "        v1                                                 v2\n",
      "0      ham  Go until jurong point, crazy.. Available only ...\n",
      "1      ham                      Ok lar... Joking wif u oni...\n",
      "2     spam  Free entry in 2 a wkly comp to win FA Cup fina...\n",
      "3      ham  U dun say so early hor... U c already then say...\n",
      "4      ham  Nah I don't think he goes to usf, he lives aro...\n",
      "...    ...                                                ...\n",
      "5567  spam  This is the 2nd time we have tried 2 contact u...\n",
      "5568   ham              Will Ì_ b going to esplanade fr home?\n",
      "5569   ham  Pity, * was in mood for that. So...any other s...\n",
      "5570   ham  The guy did some bitching but I acted like i'd...\n",
      "5571   ham                         Rofl. Its true to its name\n",
      "\n",
      "[5572 rows x 2 columns]\n"
     ]
    }
   ],
   "source": [
    "print(spam)"
   ]
  },
  {
   "cell_type": "code",
   "execution_count": 30,
   "id": "22490abd-2520-4474-a68c-b0aa4e5cbf87",
   "metadata": {},
   "outputs": [
    {
     "name": "stdout",
     "output_type": "stream",
     "text": [
      "     Label                                              Email\n",
      "0      ham  Go until jurong point, crazy.. Available only ...\n",
      "1      ham                      Ok lar... Joking wif u oni...\n",
      "2     spam  Free entry in 2 a wkly comp to win FA Cup fina...\n",
      "3      ham  U dun say so early hor... U c already then say...\n",
      "4      ham  Nah I don't think he goes to usf, he lives aro...\n",
      "...    ...                                                ...\n",
      "5567  spam  This is the 2nd time we have tried 2 contact u...\n",
      "5568   ham              Will Ì_ b going to esplanade fr home?\n",
      "5569   ham  Pity, * was in mood for that. So...any other s...\n",
      "5570   ham  The guy did some bitching but I acted like i'd...\n",
      "5571   ham                         Rofl. Its true to its name\n",
      "\n",
      "[5572 rows x 2 columns]\n"
     ]
    }
   ],
   "source": [
    "spam.columns = [\"Label\", \"Email\"]\n",
    "print(spam)"
   ]
  },
  {
   "cell_type": "code",
   "execution_count": 38,
   "id": "da9f8a78-74fd-470a-b64d-60ecef04ad0f",
   "metadata": {},
   "outputs": [],
   "source": [
    "from sklearn.metrics import classification_report, accuracy_score, precision_score, recall_score, f1_score, matthews_corrcoef, confusion_matrix\n"
   ]
  },
  {
   "cell_type": "code",
   "execution_count": 39,
   "id": "77016f15-419a-44f8-bd28-08e526d88aa6",
   "metadata": {},
   "outputs": [],
   "source": [
    "x = spam['Email']\n",
    "y = spam[\"Label\"]\n",
    "x_train, x_test,y_train, y_test = train_test_split(x,y,test_size = 0.2)"
   ]
  },
  {
   "cell_type": "code",
   "execution_count": 41,
   "id": "55efb6f3-bebc-4120-a151-fee035672d91",
   "metadata": {},
   "outputs": [
    {
     "name": "stdout",
     "output_type": "stream",
     "text": [
      "  (0, 3441)\t1\n",
      "  (0, 7709)\t2\n",
      "  (0, 3893)\t1\n",
      "  (0, 6397)\t1\n",
      "  (0, 6925)\t2\n",
      "  (0, 4367)\t1\n",
      "  (0, 7415)\t1\n",
      "  (0, 4129)\t1\n",
      "  (0, 3977)\t1\n",
      "  (0, 3610)\t1\n",
      "  (0, 7460)\t1\n",
      "  (0, 5918)\t1\n",
      "  (0, 7545)\t2\n",
      "  (0, 6810)\t1\n",
      "  (0, 2750)\t1\n",
      "  (0, 5715)\t1\n",
      "  (0, 6946)\t1\n",
      "  (0, 3017)\t1\n",
      "  (0, 7693)\t1\n",
      "  (0, 4986)\t1\n",
      "  (0, 4809)\t1\n",
      "  (1, 3893)\t1\n",
      "  (1, 6925)\t1\n",
      "  (1, 7415)\t1\n",
      "  (1, 3017)\t1\n",
      "  :\t:\n",
      "  (4455, 3456)\t1\n",
      "  (4456, 6925)\t1\n",
      "  (4456, 6810)\t1\n",
      "  (4456, 4986)\t1\n",
      "  (4456, 4809)\t1\n",
      "  (4456, 551)\t1\n",
      "  (4456, 4629)\t1\n",
      "  (4456, 1070)\t1\n",
      "  (4456, 4817)\t1\n",
      "  (4456, 7087)\t1\n",
      "  (4456, 5425)\t1\n",
      "  (4456, 5189)\t1\n",
      "  (4456, 312)\t1\n",
      "  (4456, 1927)\t1\n",
      "  (4456, 7587)\t1\n",
      "  (4456, 4052)\t1\n",
      "  (4456, 3280)\t1\n",
      "  (4456, 3749)\t1\n",
      "  (4456, 5247)\t1\n",
      "  (4456, 688)\t1\n",
      "  (4456, 4648)\t1\n",
      "  (4456, 500)\t1\n",
      "  (4456, 3585)\t1\n",
      "  (4456, 4070)\t1\n",
      "  (4456, 5016)\t1\n"
     ]
    }
   ],
   "source": [
    "cv = CountVectorizer()\n",
    "features = cv.fit_transform(x_train)\n",
    "print(features)"
   ]
  },
  {
   "cell_type": "code",
   "execution_count": 42,
   "id": "fee29a7c-8cc6-44d7-a4e2-658baaa57b46",
   "metadata": {},
   "outputs": [
    {
     "data": {
      "text/html": [
       "<style>#sk-container-id-3 {color: black;background-color: white;}#sk-container-id-3 pre{padding: 0;}#sk-container-id-3 div.sk-toggleable {background-color: white;}#sk-container-id-3 label.sk-toggleable__label {cursor: pointer;display: block;width: 100%;margin-bottom: 0;padding: 0.3em;box-sizing: border-box;text-align: center;}#sk-container-id-3 label.sk-toggleable__label-arrow:before {content: \"▸\";float: left;margin-right: 0.25em;color: #696969;}#sk-container-id-3 label.sk-toggleable__label-arrow:hover:before {color: black;}#sk-container-id-3 div.sk-estimator:hover label.sk-toggleable__label-arrow:before {color: black;}#sk-container-id-3 div.sk-toggleable__content {max-height: 0;max-width: 0;overflow: hidden;text-align: left;background-color: #f0f8ff;}#sk-container-id-3 div.sk-toggleable__content pre {margin: 0.2em;color: black;border-radius: 0.25em;background-color: #f0f8ff;}#sk-container-id-3 input.sk-toggleable__control:checked~div.sk-toggleable__content {max-height: 200px;max-width: 100%;overflow: auto;}#sk-container-id-3 input.sk-toggleable__control:checked~label.sk-toggleable__label-arrow:before {content: \"▾\";}#sk-container-id-3 div.sk-estimator input.sk-toggleable__control:checked~label.sk-toggleable__label {background-color: #d4ebff;}#sk-container-id-3 div.sk-label input.sk-toggleable__control:checked~label.sk-toggleable__label {background-color: #d4ebff;}#sk-container-id-3 input.sk-hidden--visually {border: 0;clip: rect(1px 1px 1px 1px);clip: rect(1px, 1px, 1px, 1px);height: 1px;margin: -1px;overflow: hidden;padding: 0;position: absolute;width: 1px;}#sk-container-id-3 div.sk-estimator {font-family: monospace;background-color: #f0f8ff;border: 1px dotted black;border-radius: 0.25em;box-sizing: border-box;margin-bottom: 0.5em;}#sk-container-id-3 div.sk-estimator:hover {background-color: #d4ebff;}#sk-container-id-3 div.sk-parallel-item::after {content: \"\";width: 100%;border-bottom: 1px solid gray;flex-grow: 1;}#sk-container-id-3 div.sk-label:hover label.sk-toggleable__label {background-color: #d4ebff;}#sk-container-id-3 div.sk-serial::before {content: \"\";position: absolute;border-left: 1px solid gray;box-sizing: border-box;top: 0;bottom: 0;left: 50%;z-index: 0;}#sk-container-id-3 div.sk-serial {display: flex;flex-direction: column;align-items: center;background-color: white;padding-right: 0.2em;padding-left: 0.2em;position: relative;}#sk-container-id-3 div.sk-item {position: relative;z-index: 1;}#sk-container-id-3 div.sk-parallel {display: flex;align-items: stretch;justify-content: center;background-color: white;position: relative;}#sk-container-id-3 div.sk-item::before, #sk-container-id-3 div.sk-parallel-item::before {content: \"\";position: absolute;border-left: 1px solid gray;box-sizing: border-box;top: 0;bottom: 0;left: 50%;z-index: -1;}#sk-container-id-3 div.sk-parallel-item {display: flex;flex-direction: column;z-index: 1;position: relative;background-color: white;}#sk-container-id-3 div.sk-parallel-item:first-child::after {align-self: flex-end;width: 50%;}#sk-container-id-3 div.sk-parallel-item:last-child::after {align-self: flex-start;width: 50%;}#sk-container-id-3 div.sk-parallel-item:only-child::after {width: 0;}#sk-container-id-3 div.sk-dashed-wrapped {border: 1px dashed gray;margin: 0 0.4em 0.5em 0.4em;box-sizing: border-box;padding-bottom: 0.4em;background-color: white;}#sk-container-id-3 div.sk-label label {font-family: monospace;font-weight: bold;display: inline-block;line-height: 1.2em;}#sk-container-id-3 div.sk-label-container {text-align: center;}#sk-container-id-3 div.sk-container {/* jupyter's `normalize.less` sets `[hidden] { display: none; }` but bootstrap.min.css set `[hidden] { display: none !important; }` so we also need the `!important` here to be able to override the default hidden behavior on the sphinx rendered scikit-learn.org. See: https://github.com/scikit-learn/scikit-learn/issues/21755 */display: inline-block !important;position: relative;}#sk-container-id-3 div.sk-text-repr-fallback {display: none;}</style><div id=\"sk-container-id-3\" class=\"sk-top-container\"><div class=\"sk-text-repr-fallback\"><pre>SVC()</pre><b>In a Jupyter environment, please rerun this cell to show the HTML representation or trust the notebook. <br />On GitHub, the HTML representation is unable to render, please try loading this page with nbviewer.org.</b></div><div class=\"sk-container\" hidden><div class=\"sk-item\"><div class=\"sk-estimator sk-toggleable\"><input class=\"sk-toggleable__control sk-hidden--visually\" id=\"sk-estimator-id-3\" type=\"checkbox\" checked><label for=\"sk-estimator-id-3\" class=\"sk-toggleable__label sk-toggleable__label-arrow\">SVC</label><div class=\"sk-toggleable__content\"><pre>SVC()</pre></div></div></div></div></div>"
      ],
      "text/plain": [
       "SVC()"
      ]
     },
     "execution_count": 42,
     "metadata": {},
     "output_type": "execute_result"
    }
   ],
   "source": [
    "model = svm.SVC()\n",
    "model.fit(features,y_train)"
   ]
  },
  {
   "cell_type": "code",
   "execution_count": 43,
   "id": "10324f51-7e2a-4355-876f-e9900c64a606",
   "metadata": {},
   "outputs": [
    {
     "name": "stdout",
     "output_type": "stream",
     "text": [
      "Accuracy: 0.9856502242152466\n"
     ]
    }
   ],
   "source": [
    "features_test = cv.transform(x_test)\n",
    "print(\"Accuracy: {}\".format(model.score(features_test,y_test)))"
   ]
  },
  {
   "cell_type": "code",
   "execution_count": null,
   "id": "054a2e4b-209d-4fd4-8cc0-69ec44a43ed8",
   "metadata": {},
   "outputs": [],
   "source": [
    "from sklearn.metrics import precision_score, recall_score\n",
    "\n",
    "predictions = model.predict(features_test)\n",
    "\n",
    "# Calculate precision\n",
    "precision = precision_score(y_test, predictions, pos_label='spam')\n",
    "\n",
    "\n",
    "# Calculate recall\n",
    "recall = recall_score(y_test, predictions, pos_label='spam')\n",
    "\n",
    "print(\"Precision: {}\".format(precision))\n",
    "print(\"Recall: {}\".format(recall))\n"
   ]
  },
  {
   "cell_type": "markdown",
   "id": "c3854726-263d-4f0a-aa6a-3c8ed920cebe",
   "metadata": {},
   "source": [
    "In summary, the Support Vector Classifier (SVC) model achieved an accuracy of approximately 98.57% on the test set, indicating its strong performance in classifying emails as spam or non-spam. Furthermore, the precision score for identifying 'spam' emails was approximately 99.19%, suggesting that the model correctly identified a high proportion of actual spam emails among all emails predicted as spam. However, the recall score for 'spam' emails was slightly lower at approximately 89.13%, indicating that the model missed identifying some spam emails present in the dataset. Nonetheless, the overall performance of the SVC model in terms of accuracy, precision, and recall indicates its effectiveness in identifying spam emails with high confidence while minimizing false positives."
   ]
  }
 ],
 "metadata": {
  "kernelspec": {
   "display_name": "Python 3 (ipykernel)",
   "language": "python",
   "name": "python3"
  },
  "language_info": {
   "codemirror_mode": {
    "name": "ipython",
    "version": 3
   },
   "file_extension": ".py",
   "mimetype": "text/x-python",
   "name": "python",
   "nbconvert_exporter": "python",
   "pygments_lexer": "ipython3",
   "version": "3.10.9"
  },
  "widgets": {
   "application/vnd.jupyter.widget-state+json": {
    "state": {},
    "version_major": 2,
    "version_minor": 0
   }
  }
 },
 "nbformat": 4,
 "nbformat_minor": 5
}
